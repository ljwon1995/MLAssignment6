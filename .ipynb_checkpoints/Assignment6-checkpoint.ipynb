{
 "cells": [
  {
   "cell_type": "code",
   "execution_count": 101,
   "metadata": {},
   "outputs": [],
   "source": [
    "import torch\n",
    "from torch.utils.data import Dataset, DataLoader\n",
    "import torchvision.transforms as transforms\n",
    "import torchvision\n",
    "import os\n",
    "import numpy as np\n",
    "import time"
   ]
  },
  {
   "cell_type": "code",
   "execution_count": 141,
   "metadata": {},
   "outputs": [
    {
     "name": "stdout",
     "output_type": "stream",
     "text": [
      "Loading time :  1.8834950923919678\n",
      "torch.Size([1027])\n",
      "torch.Size([10000, 1027])\n",
      "torch.Size([10000, 256])\n"
     ]
    }
   ],
   "source": [
    "startTime = time.time()\n",
    "\n",
    "transform = transforms.Compose([#transforms.Resize((256,256)),  \n",
    "                                transforms.Grayscale(),\t\t# the code transforms.Graysclae() is for changing the size [3,100,100] to [1, 100, 100] (notice : [channel, height, width] )\n",
    "                                transforms.ToTensor(),])\n",
    "\n",
    "#train_data_path = 'relative path of training data set'\n",
    "train_data_path = './horse-or-human/train'\n",
    "trainset = torchvision.datasets.ImageFolder(root=train_data_path, transform=transform)\n",
    "# change the valuse of batch_size, num_workers for your program\n",
    "# if shuffle=True, the data reshuffled at every epoch \n",
    "trainloader = torch.utils.data.DataLoader(trainset, batch_size=1027, shuffle=False, num_workers=1)  \n",
    "\n",
    "\n",
    "validation_data_path = './horse-or-human/validation'\n",
    "valset = torchvision.datasets.ImageFolder(root=validation_data_path, transform=transform)\n",
    "# change the valuse of batch_size, num_workers for your program\n",
    "valloader = torch.utils.data.DataLoader(valset, batch_size=256, shuffle=False, num_workers=1) \n",
    "\n",
    "for i, data in enumerate(trainloader):\n",
    "    \n",
    "    # inputs is the image\n",
    "    # labels is the class of the image\n",
    "    trnInputs, trnLabels = data\n",
    "\n",
    "    # if you don't change the image size, it will be [batch_size, 1, 100, 100]\n",
    "    # if labels is horse it returns tensor[0,0,0] else it returns tensor[1,1,1]\n",
    "    \n",
    "    #make inputs [1027, 1, 100, 100] to [10000,1027]\n",
    "    trnInputs = trnInputs.view(1027, 10000)\n",
    "    trnInputs = trnInputs.T\n",
    "\n",
    "\n",
    "# load validation images of the batch size for every iteration\n",
    "for i, data in enumerate(valloader):\n",
    "\n",
    "    # inputs is the image\n",
    "    # labels is the class of the image\n",
    "    valInputs, valLabels = data\n",
    "\n",
    "    # if you don't change the image size, it will be [batch_size, 1, 100, 100]\n",
    "    # if labels is horse it returns tensor[0,0,0] else it returns tensor[1,1,1]\n",
    "    #make [256, 1, 100, 100] to [10000,256]\n",
    "    valInputs = valInputs.view(256, 10000)\n",
    "    valInputs = valInputs.T\n",
    "    \n",
    "endTime = time.time()\n",
    "\n",
    "print(\"Loading time : \", endTime - startTime)\n",
    "print(trnLabels.shape)\n",
    "print(trnInputs.shape)\n",
    "print(valInputs.shape)"
   ]
  },
  {
   "cell_type": "code",
   "execution_count": 151,
   "metadata": {},
   "outputs": [
    {
     "name": "stdout",
     "output_type": "stream",
     "text": [
      "[tensor([[0.0264, 0.8154, 0.8748,  ..., 0.6699, 0.0034, 0.1542],\n",
      "        [0.3781, 0.0027, 0.6471,  ..., 0.4163, 0.6371, 0.2404],\n",
      "        [0.5707, 0.2952, 0.4838,  ..., 0.8571, 0.5467, 0.6763],\n",
      "        [0.1958, 0.7025, 0.0894,  ..., 0.2580, 0.2490, 0.1291]]), tensor([[0.8597, 0.6264, 0.4496, 0.1106],\n",
      "        [0.9409, 0.1387, 0.4972, 0.3197],\n",
      "        [0.3858, 0.8897, 0.5442, 0.0726]]), tensor([[0.7112, 0.5790, 0.0749]])] [tensor([[0.5961, 0.6000, 0.6157,  ..., 0.3569, 0.3529, 0.3529],\n",
      "        [0.5961, 0.5961, 0.6157,  ..., 0.3569, 0.3529, 0.3490],\n",
      "        [0.5961, 0.6000, 0.6157,  ..., 0.3529, 0.3490, 0.3490],\n",
      "        ...,\n",
      "        [0.8941, 0.8078, 0.6627,  ..., 0.4627, 0.4235, 0.4431],\n",
      "        [0.9020, 0.7922, 0.6627,  ..., 0.4627, 0.3961, 0.4157],\n",
      "        [0.8745, 0.7529, 0.6980,  ..., 0.2353, 0.3882, 0.4941]]), None, None, None] [tensor([[0., 0., 0.,  ..., 0., 0., 0.],\n",
      "        [0., 0., 0.,  ..., 0., 0., 0.],\n",
      "        [0., 0., 0.,  ..., 0., 0., 0.],\n",
      "        [0., 0., 0.,  ..., 0., 0., 0.]]), tensor([[0., 0., 0.,  ..., 0., 0., 0.],\n",
      "        [0., 0., 0.,  ..., 0., 0., 0.],\n",
      "        [0., 0., 0.,  ..., 0., 0., 0.]]), tensor([[0., 0., 0.,  ..., 0., 0., 0.]])] [None, None, None] [None, None, None] [None, None, None] [None, None, None] [None, None, None]\n"
     ]
    }
   ],
   "source": [
    "firstNodesNum = 4\n",
    "secondNodesNum = 3\n",
    "thirdNodesNum = 1\n",
    "\n",
    "#init W which contains(w_1, w_2, w_3)\n",
    "W = list()\n",
    "\n",
    "w = torch.rand(firstNodesNum,10000)\n",
    "W.append(w)\n",
    "\n",
    "w = torch.rand(secondNodesNum, firstNodesNum)\n",
    "W.append(w)\n",
    "\n",
    "w = torch.rand(thirdNodesNum, secondNodesNum)\n",
    "W.append(w)\n",
    "\n",
    "#init A which contains(a_0, a_1, a_2, a_3)\n",
    "A = [None] * 4\n",
    "A[0] = trnInputs\n",
    "\n",
    "#init B which contatins(b_1, b_2, b_3)\n",
    "B = list()\n",
    "\n",
    "b = torch.zeros(firstNodesNum, 1027)\n",
    "B.append(b)\n",
    "\n",
    "b = torch.zeros(secondNodesNum, 1027)\n",
    "B.append(b)\n",
    "\n",
    "b = torch.zeros(thirdNodesNum, 1027)\n",
    "B.append(b)\n",
    "\n",
    "#init Z which contains(z_1, z_2, z_3)\n",
    "Z = [None] * 3\n",
    "\n",
    "#init DW which contains(dw_1, dw_2, dw_3)\n",
    "DW = [None] * 3\n",
    "\n",
    "#init DB which contains(db_1, db_2, db_3)\n",
    "DB = [None] * 3\n",
    "\n",
    "#init DZ which contains(dz_1, dz_2, dz_3)\n",
    "DZ = [None] * 3\n",
    "\n",
    "#init DA which contains(da_1, da_2, da_3)\n",
    "DA = [None] * 3\n",
    "\n",
    "\n",
    "#print(W, A, B, Z, DW, DB, DZ, DA)"
   ]
  },
  {
   "cell_type": "code",
   "execution_count": 150,
   "metadata": {},
   "outputs": [
    {
     "name": "stdout",
     "output_type": "stream",
     "text": [
      "[tensor([[0.2622, 0.0510, 0.2178,  ..., 0.5407, 0.9399, 0.4155],\n",
      "        [0.6988, 0.0221, 0.7036,  ..., 0.8712, 0.9579, 0.8690],\n",
      "        [0.3981, 0.1598, 0.6024,  ..., 0.3411, 0.5992, 0.4629],\n",
      "        [0.3967, 0.2124, 0.2802,  ..., 0.8544, 0.4297, 0.6073]]), tensor([[0.9200, 0.1609, 0.2330, 0.2345],\n",
      "        [0.2695, 0.8359, 0.6064, 0.6175],\n",
      "        [0.0941, 0.7410, 0.5379, 0.3009]]), tensor([[0.8061, 0.5753, 0.7424]])] [tensor([[0.5961, 0.6000, 0.6157,  ..., 0.3569, 0.3529, 0.3529],\n",
      "        [0.5961, 0.5961, 0.6157,  ..., 0.3569, 0.3529, 0.3490],\n",
      "        [0.5961, 0.6000, 0.6157,  ..., 0.3529, 0.3490, 0.3490],\n",
      "        ...,\n",
      "        [0.8941, 0.8078, 0.6627,  ..., 0.4627, 0.4235, 0.4431],\n",
      "        [0.9020, 0.7922, 0.6627,  ..., 0.4627, 0.3961, 0.4157],\n",
      "        [0.8745, 0.7529, 0.6980,  ..., 0.2353, 0.3882, 0.4941]]), None, None, None] [tensor([[0., 0., 0.,  ..., 0., 0., 0.],\n",
      "        [0., 0., 0.,  ..., 0., 0., 0.],\n",
      "        [0., 0., 0.,  ..., 0., 0., 0.],\n",
      "        [0., 0., 0.,  ..., 0., 0., 0.]]), tensor([[0., 0., 0.,  ..., 0., 0., 0.],\n",
      "        [0., 0., 0.,  ..., 0., 0., 0.],\n",
      "        [0., 0., 0.,  ..., 0., 0., 0.]]), tensor([[0., 0., 0.,  ..., 0., 0., 0.]])] [None, None, None] [None, None, None] [None, None, None] [None, None, None] [None, None, None]\n"
     ]
    },
    {
     "ename": "TypeError",
     "evalue": "add(): argument 'other' (position 1) must be Tensor, not numpy.ndarray",
     "output_type": "error",
     "traceback": [
      "\u001b[0;31m---------------------------------------------------------------------------\u001b[0m",
      "\u001b[0;31mTypeError\u001b[0m                                 Traceback (most recent call last)",
      "\u001b[0;32m<ipython-input-150-f8d6667e6f65>\u001b[0m in \u001b[0;36m<module>\u001b[0;34m\u001b[0m\n\u001b[1;32m     52\u001b[0m \u001b[0;31m#forwardPass\u001b[0m\u001b[0;34m\u001b[0m\u001b[0;34m\u001b[0m\u001b[0;34m\u001b[0m\u001b[0m\n\u001b[1;32m     53\u001b[0m \u001b[0;32mfor\u001b[0m \u001b[0midx\u001b[0m \u001b[0;32min\u001b[0m \u001b[0mrange\u001b[0m\u001b[0;34m(\u001b[0m\u001b[0;36m3\u001b[0m\u001b[0;34m)\u001b[0m\u001b[0;34m:\u001b[0m\u001b[0;34m\u001b[0m\u001b[0;34m\u001b[0m\u001b[0m\n\u001b[0;32m---> 54\u001b[0;31m     \u001b[0mZ\u001b[0m\u001b[0;34m[\u001b[0m\u001b[0midx\u001b[0m\u001b[0;34m]\u001b[0m \u001b[0;34m=\u001b[0m \u001b[0mnp\u001b[0m\u001b[0;34m.\u001b[0m\u001b[0mdot\u001b[0m\u001b[0;34m(\u001b[0m\u001b[0mW\u001b[0m\u001b[0;34m[\u001b[0m\u001b[0midx\u001b[0m\u001b[0;34m]\u001b[0m\u001b[0;34m,\u001b[0m \u001b[0mA\u001b[0m\u001b[0;34m[\u001b[0m\u001b[0midx\u001b[0m\u001b[0;34m]\u001b[0m\u001b[0;34m)\u001b[0m \u001b[0;34m+\u001b[0m \u001b[0mB\u001b[0m\u001b[0;34m[\u001b[0m\u001b[0midx\u001b[0m\u001b[0;34m]\u001b[0m\u001b[0;34m\u001b[0m\u001b[0;34m\u001b[0m\u001b[0m\n\u001b[0m\u001b[1;32m     55\u001b[0m     \u001b[0mA\u001b[0m\u001b[0;34m[\u001b[0m\u001b[0midx\u001b[0m\u001b[0;34m+\u001b[0m\u001b[0;36m1\u001b[0m\u001b[0;34m]\u001b[0m \u001b[0;34m=\u001b[0m \u001b[0msigmoid\u001b[0m\u001b[0;34m(\u001b[0m\u001b[0mZ\u001b[0m\u001b[0;34m[\u001b[0m\u001b[0midx\u001b[0m\u001b[0;34m]\u001b[0m\u001b[0;34m)\u001b[0m\u001b[0;34m\u001b[0m\u001b[0;34m\u001b[0m\u001b[0m\n\u001b[1;32m     56\u001b[0m \u001b[0;34m\u001b[0m\u001b[0m\n",
      "\u001b[0;31mTypeError\u001b[0m: add(): argument 'other' (position 1) must be Tensor, not numpy.ndarray"
     ]
    }
   ],
   "source": [
    "\n",
    "\n",
    "#forwardPass\n",
    "for idx in range(3):\n",
    "    Z[idx] = np.dot(W[idx], A[idx]) + B[idx]\n",
    "    A[idx+1] = sigmoid(Z[idx])\n",
    "\n",
    "#calculate loss\n",
    "trainLoss = (-trnLabels * np.log(A[3]) - (1-trnLabels)*np.log(A[3])).sum\n",
    "\n",
    "\n",
    "\n",
    "#calculate acc\n",
    "#backPropagation\n",
    "#update()\n",
    "\n",
    "'''\n",
    "#Training\n",
    "\n",
    "calculateForwardPass()\n",
    "backPropagation()\n",
    "update()\n",
    "calculateLoss\n",
    "calculateAcc\n",
    "\n",
    "#Validation\n",
    "calculateForwardPass()\n",
    "calculateLoss()\n",
    "calculateAcc()\n",
    "'''"
   ]
  },
  {
   "cell_type": "code",
   "execution_count": 124,
   "metadata": {},
   "outputs": [],
   "source": [
    "def mul(w,x,z):\n",
    "    z = np.dot(w,x)\n"
   ]
  },
  {
   "cell_type": "code",
   "execution_count": 126,
   "metadata": {},
   "outputs": [
    {
     "ename": "SyntaxError",
     "evalue": "invalid syntax (<ipython-input-126-ad6342d6593f>, line 5)",
     "output_type": "error",
     "traceback": [
      "\u001b[0;36m  File \u001b[0;32m\"<ipython-input-126-ad6342d6593f>\"\u001b[0;36m, line \u001b[0;32m5\u001b[0m\n\u001b[0;31m    mul(w,x,&q)\u001b[0m\n\u001b[0m            ^\u001b[0m\n\u001b[0;31mSyntaxError\u001b[0m\u001b[0;31m:\u001b[0m invalid syntax\n"
     ]
    }
   ],
   "source": [
    "w = torch.tensor([[1,2]])\n",
    "x = torch.tensor([[3],\n",
    "           [4]])\n",
    "\n",
    "mul(w,x,&q)\n",
    "print(q)"
   ]
  },
  {
   "cell_type": "code",
   "execution_count": 130,
   "metadata": {},
   "outputs": [
    {
     "name": "stdout",
     "output_type": "stream",
     "text": [
      "[[[1, 2, 3]], [[4, 5, 6]]]\n",
      "[[[6, 7, 8]], [[4, 5, 6]]]\n"
     ]
    }
   ],
   "source": [
    "a = list()\n",
    "b = [[1,2,3]]\n",
    "c = [[4,5,6]]\n",
    "a.append(b)\n",
    "a.append(c)\n",
    "print(a)\n",
    "a[0] = [[6,7,8]]\n",
    "print(a)"
   ]
  },
  {
   "cell_type": "code",
   "execution_count": 133,
   "metadata": {},
   "outputs": [
    {
     "name": "stdout",
     "output_type": "stream",
     "text": [
      "tensor([[0.8435, 0.3219, 0.2608, 0.1333, 0.4563, 0.4392, 0.8957, 0.2124, 0.8630,\n",
      "         0.9576, 0.0384, 0.5711, 0.0071, 0.1401, 0.9306, 0.2092, 0.3163, 0.3397,\n",
      "         0.7583, 0.8490, 0.0405, 0.3740, 0.6274, 0.9405, 0.9360, 0.9934, 0.3995,\n",
      "         0.3997, 0.6955, 0.2007, 0.3166, 0.3688, 0.4869, 0.8656, 0.2430, 0.0601,\n",
      "         0.8723, 0.1672, 0.9747, 0.5803, 0.0600, 0.2074, 0.4461, 0.6617, 0.8128,\n",
      "         0.0347, 0.5991, 0.1257, 0.6689, 0.7075, 0.0838, 0.6281, 0.6497, 0.7052,\n",
      "         0.5552, 0.0681, 0.3842, 0.3523, 0.7611, 0.0144, 0.0931, 0.6590, 0.4231,\n",
      "         0.3908, 0.2922, 0.3065, 0.6952, 0.0174, 0.5757, 0.8114, 0.5712, 0.6518,\n",
      "         0.8692, 0.2076, 0.6844, 0.0383, 0.0361, 0.9018, 0.7601, 0.2972, 0.2718,\n",
      "         0.8246, 0.1904, 0.9240, 0.4888, 0.4807, 0.0984, 0.4154, 0.2688, 0.2576,\n",
      "         0.7912, 0.8474, 0.7111, 0.8050, 0.8883, 0.6812, 0.1067, 0.3705, 0.1228,\n",
      "         0.6804]])\n"
     ]
    }
   ],
   "source": [
    "a = torch.rand(1,100)\n",
    "print(a)"
   ]
  },
  {
   "cell_type": "code",
   "execution_count": 139,
   "metadata": {},
   "outputs": [
    {
     "name": "stdout",
     "output_type": "stream",
     "text": [
      "[tensor([[0.6959, 0.4416, 0.8918, 0.2744, 0.3413, 0.2304, 0.0848, 0.2467, 0.2599,\n",
      "         0.7140]])]\n",
      "[tensor([[2, 3]])]\n"
     ]
    }
   ],
   "source": [
    "a = list()\n",
    "a.append(torch.rand(1,10))\n",
    "print(a)\n",
    "a[0] = torch.tensor([[2,3]])\n",
    "print(a)"
   ]
  },
  {
   "cell_type": "code",
   "execution_count": 140,
   "metadata": {},
   "outputs": [
    {
     "name": "stdout",
     "output_type": "stream",
     "text": [
      "[tensor([[2, 3]])]\n"
     ]
    }
   ],
   "source": [
    "A = 3\n",
    "print(a)"
   ]
  },
  {
   "cell_type": "code",
   "execution_count": 145,
   "metadata": {},
   "outputs": [
    {
     "name": "stdout",
     "output_type": "stream",
     "text": [
      "[3, tensor([2, 3]), None]\n"
     ]
    }
   ],
   "source": [
    "a = [None]*3\n",
    "a[0] = 3\n",
    "a[1] = torch.tensor([2,3])\n",
    "print(a)"
   ]
  },
  {
   "cell_type": "code",
   "execution_count": null,
   "metadata": {},
   "outputs": [],
   "source": []
  }
 ],
 "metadata": {
  "kernelspec": {
   "display_name": "Python 3",
   "language": "python",
   "name": "python3"
  },
  "language_info": {
   "codemirror_mode": {
    "name": "ipython",
    "version": 3
   },
   "file_extension": ".py",
   "mimetype": "text/x-python",
   "name": "python",
   "nbconvert_exporter": "python",
   "pygments_lexer": "ipython3",
   "version": "3.7.3"
  }
 },
 "nbformat": 4,
 "nbformat_minor": 2
}
