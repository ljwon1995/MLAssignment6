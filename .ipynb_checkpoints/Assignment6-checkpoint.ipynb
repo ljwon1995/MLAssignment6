{
 "cells": [
  {
   "cell_type": "code",
   "execution_count": 32,
   "metadata": {},
   "outputs": [],
   "source": [
    "import torch\n",
    "from torch.utils.data import Dataset, DataLoader\n",
    "import torchvision.transforms as transforms\n",
    "import torchvision\n",
    "import os\n",
    "import numpy as np\n",
    "import time"
   ]
  },
  {
   "cell_type": "code",
   "execution_count": 33,
   "metadata": {},
   "outputs": [
    {
     "name": "stdout",
     "output_type": "stream",
     "text": [
      "Loading time :  1.0646579265594482\n",
      "torch.Size([1027])\n",
      "torch.Size([10000, 1027])\n",
      "torch.Size([10000, 256])\n"
     ]
    }
   ],
   "source": [
    "startTime = time.time()\n",
    "\n",
    "transform = transforms.Compose([#transforms.Resize((256,256)),  \n",
    "                                transforms.Grayscale(),\t\t# the code transforms.Graysclae() is for changing the size [3,100,100] to [1, 100, 100] (notice : [channel, height, width] )\n",
    "                                transforms.ToTensor(),])\n",
    "\n",
    "#train_data_path = 'relative path of training data set'\n",
    "train_data_path = './horse-or-human/train'\n",
    "trainset = torchvision.datasets.ImageFolder(root=train_data_path, transform=transform)\n",
    "# change the valuse of batch_size, num_workers for your program\n",
    "# if shuffle=True, the data reshuffled at every epoch \n",
    "trainloader = torch.utils.data.DataLoader(trainset, batch_size=1027, shuffle=False, num_workers=1)  \n",
    "\n",
    "\n",
    "validation_data_path = './horse-or-human/validation'\n",
    "valset = torchvision.datasets.ImageFolder(root=validation_data_path, transform=transform)\n",
    "# change the valuse of batch_size, num_workers for your program\n",
    "valloader = torch.utils.data.DataLoader(valset, batch_size=256, shuffle=False, num_workers=1) \n",
    "\n",
    "for i, data in enumerate(trainloader):\n",
    "    \n",
    "    # inputs is the image\n",
    "    # labels is the class of the image\n",
    "    trnInputs, trnLabels = data\n",
    "\n",
    "    # if you don't change the image size, it will be [batch_size, 1, 100, 100]\n",
    "    # if labels is horse it returns tensor[0,0,0] else it returns tensor[1,1,1]\n",
    "    \n",
    "    #make inputs [1027, 1, 100, 100] to [10000,1027]\n",
    "    trnInputs = trnInputs.view(1027, 10000)\n",
    "    trnInputs = trnInputs.T\n",
    "\n",
    "    #make trnLabels' type to double\n",
    "    trnLabels = trnLabels.float()\n",
    "\n",
    "\n",
    "# load validation images of the batch size for every iteration\n",
    "for i, data in enumerate(valloader):\n",
    "\n",
    "    # inputs is the image\n",
    "    # labels is the class of the image\n",
    "    valInputs, valLabels = data\n",
    "\n",
    "    # if you don't change the image size, it will be [batch_size, 1, 100, 100]\n",
    "    # if labels is horse it returns tensor[0,0,0] else it returns tensor[1,1,1]\n",
    "    #make [256, 1, 100, 100] to [10000,256]\n",
    "    valInputs = valInputs.view(256, 10000)\n",
    "    valInputs = valInputs.T\n",
    "    \n",
    "    valLabels = valLabels.double()\n",
    "    \n",
    "endTime = time.time()\n",
    "\n",
    "print(\"Loading time : \", endTime - startTime)\n",
    "print(trnLabels.shape)\n",
    "print(trnInputs.shape)\n",
    "print(valInputs.shape)"
   ]
  },
  {
   "cell_type": "code",
   "execution_count": 34,
   "metadata": {},
   "outputs": [],
   "source": [
    "firstNodesNum = 4\n",
    "secondNodesNum = 3\n",
    "thirdNodesNum = 1\n",
    "\n",
    "#init W which contains(w_1, w_2, w_3)\n",
    "W = list()\n",
    "\n",
    "w = torch.rand(firstNodesNum,10000)\n",
    "W.append(w)\n",
    "\n",
    "w = torch.rand(secondNodesNum, firstNodesNum)\n",
    "W.append(w)\n",
    "\n",
    "w = torch.rand(thirdNodesNum, secondNodesNum)\n",
    "W.append(w)\n",
    "\n",
    "#init A which contains(a_0, a_1, a_2, a_3)\n",
    "A = [None] * 4\n",
    "A[0] = trnInputs\n",
    "\n",
    "#init B which contatins(b_1, b_2, b_3)\n",
    "B = list()\n",
    "\n",
    "b = torch.zeros(firstNodesNum, 1)\n",
    "B.append(b)\n",
    "\n",
    "b = torch.zeros(secondNodesNum, 1)\n",
    "B.append(b)\n",
    "\n",
    "b = torch.zeros(thirdNodesNum, 1)\n",
    "B.append(b)\n",
    "\n",
    "#init Z which contains(z_1, z_2, z_3)\n",
    "Z = [None] * 3\n",
    "\n",
    "#init DW which contains(dw_1, dw_2, dw_3)\n",
    "DW = [None] * 3\n",
    "\n",
    "#init DB which contains(db_1, db_2, db_3)\n",
    "DB = [None] * 3\n",
    "\n",
    "#init DZ which contains(dz_1, dz_2, dz_3)\n",
    "DZ = [None] * 3\n",
    "\n",
    "#init DA which contains(da_1, da_2, da_3)\n",
    "DA = [None] * 3\n",
    "\n",
    "\n",
    "#print(W, A, B, Z, DW, DB, DZ, DA)"
   ]
  },
  {
   "cell_type": "code",
   "execution_count": 35,
   "metadata": {},
   "outputs": [],
   "source": [
    "def sigmoid(z):\n",
    "    return 1/(1+np.exp(-z))"
   ]
  },
  {
   "cell_type": "code",
   "execution_count": 44,
   "metadata": {},
   "outputs": [
    {
     "data": {
      "text/plain": [
       "'\\n#Training\\n\\ncalculateForwardPass()\\nbackPropagation()\\nupdate()\\ncalculateLoss\\ncalculateAcc\\n\\n#Validation\\ncalculateForwardPass()\\ncalculateLoss()\\ncalculateAcc()\\n'"
      ]
     },
     "execution_count": 44,
     "metadata": {},
     "output_type": "execute_result"
    }
   ],
   "source": [
    "totalTrnNum = trnLabels.shape[0]\n",
    "\n",
    "\n",
    "#forwardPass\n",
    "for idx in range(3):\n",
    "    Z[idx] = torch.mm(W[idx], A[idx]) + B[idx]\n",
    "    A[idx+1] = sigmoid(Z[idx])\n",
    "\n",
    "#calculate loss\n",
    "trainLosses = (-trnLabels * np.log(A[3]) - (1-trnLabels)*np.log(A[3]))\n",
    "trainLoss = torch.sum(trainLosses)/totalTrnNum\n",
    "\n",
    "\n",
    "#calculate acc\n",
    "trnCor = 0\n",
    "\n",
    "\n",
    "for idx in range(totalTrnNum):\n",
    "    if A[3][0][idx] <= 0.5 and trnLabels[idx] <= 0.5:\n",
    "        trnCor += 1\n",
    "    \n",
    "    if A[3][0][idx] > 0.5 and trnLabels[idx] > 0.5:\n",
    "        trnCor += 1\n",
    "        \n",
    "trnAcc = trnCor/totalTrnNum\n",
    "\n",
    "\n",
    "#backPropagation\n",
    "DZ[2] = A[3] - trnLabels\n",
    "DW[2] = (torch.mm(DZ[2], A[2].T))/totalTrnNum\n",
    "DB[2] = (torch.sum(DZ[2], axis = 1, keepdims = True))/totalTrnNum\n",
    "\n",
    "DZ[1] = torch.mm(W[2].T, DZ[2]) * A[2] * (1-A[2])\n",
    "DW[1] = (torch.mm(DZ[1], A[1].T))/totalTrnNum\n",
    "DB[1] = (torch.sum(DZ[1], axis = 1, keepdims = True))/totalTrnNum\n",
    "\n",
    "DZ[0] = torch.mm(W[1].T, DZ[1]) * A[1] * (1-A[1])\n",
    "DW[0] = (torch.mm(DZ[0], A[0].T))/totalTrnNum\n",
    "DB[0] = (torch.sum(DZ[0], axis = 1, keepdims = True)) / totalTrnNum\n",
    "\n",
    "\n",
    "\n",
    "\n",
    "\n",
    "\n",
    "\n",
    "#update()\n",
    "\n",
    "'''\n",
    "#Training\n",
    "\n",
    "calculateForwardPass()\n",
    "backPropagation()\n",
    "update()\n",
    "calculateLoss\n",
    "calculateAcc\n",
    "\n",
    "#Validation\n",
    "calculateForwardPass()\n",
    "calculateLoss()\n",
    "calculateAcc()\n",
    "'''"
   ]
  },
  {
   "cell_type": "code",
   "execution_count": null,
   "metadata": {},
   "outputs": [],
   "source": [
    "def mul(w,x,z):\n",
    "    z = np.dot(w,x)\n"
   ]
  },
  {
   "cell_type": "code",
   "execution_count": null,
   "metadata": {},
   "outputs": [],
   "source": [
    "w = torch.tensor([[1,2]])\n",
    "x = torch.tensor([[3],\n",
    "           [4]])\n",
    "\n",
    "mul(w,x,&q)\n",
    "print(q)"
   ]
  },
  {
   "cell_type": "code",
   "execution_count": null,
   "metadata": {},
   "outputs": [],
   "source": [
    "a = list()\n",
    "b = [[1,2,3]]\n",
    "c = [[4,5,6]]\n",
    "a.append(b)\n",
    "a.append(c)\n",
    "print(a)\n",
    "a[0] = [[6,7,8]]\n",
    "print(a)"
   ]
  },
  {
   "cell_type": "code",
   "execution_count": null,
   "metadata": {},
   "outputs": [],
   "source": [
    "a = torch.rand(1,100)\n",
    "print(a)"
   ]
  },
  {
   "cell_type": "code",
   "execution_count": null,
   "metadata": {},
   "outputs": [],
   "source": [
    "a = list()\n",
    "a.append(torch.rand(1,10))\n",
    "print(a)\n",
    "a[0] = torch.tensor([[2,3]])\n",
    "print(a)"
   ]
  },
  {
   "cell_type": "code",
   "execution_count": null,
   "metadata": {},
   "outputs": [],
   "source": [
    "A = 3\n",
    "print(a)"
   ]
  },
  {
   "cell_type": "code",
   "execution_count": null,
   "metadata": {},
   "outputs": [],
   "source": [
    "a = torch.tensor([[2,3]])\n",
    "b = torch.tensor([[3],\n",
    "                 [1]])\n",
    "\n",
    "print(np.dot(a,b))\n",
    "print(torch.mm(a,b))\n"
   ]
  },
  {
   "cell_type": "code",
   "execution_count": null,
   "metadata": {},
   "outputs": [],
   "source": [
    "a = torch.tensor([[0.0843, 0.0843, 0.0843, 0.0843, 0.0843, 0.0843]])\n",
    "print(a)\n",
    "print(torch.sum(a))"
   ]
  },
  {
   "cell_type": "code",
   "execution_count": 15,
   "metadata": {},
   "outputs": [
    {
     "name": "stdout",
     "output_type": "stream",
     "text": [
      "[[6]\n",
      " [9]]\n"
     ]
    }
   ],
   "source": [
    "a = np.array([[1,2,3],\n",
    "             [2,3,4]])\n",
    "print(np.sum(a, axis = 1, keepdims = True))\n"
   ]
  },
  {
   "cell_type": "code",
   "execution_count": 19,
   "metadata": {},
   "outputs": [
    {
     "name": "stdout",
     "output_type": "stream",
     "text": [
      "tensor([[6]])\n"
     ]
    }
   ],
   "source": [
    "a = torch.tensor([[1,2,3]])\n",
    "print(torch.sum(a, axis = 1, keepdims = True))"
   ]
  },
  {
   "cell_type": "code",
   "execution_count": 31,
   "metadata": {},
   "outputs": [
    {
     "name": "stdout",
     "output_type": "stream",
     "text": [
      "tensor([[ 4,  5,  6],\n",
      "        [14, 15, 16]])\n"
     ]
    }
   ],
   "source": [
    "a = torch.tensor([[1,2,3],\n",
    "                 [4,5,6]])\n",
    "b = torch.tensor([[3],\n",
    "                 [10]])\n",
    "\n",
    "print(a+b)"
   ]
  },
  {
   "cell_type": "code",
   "execution_count": null,
   "metadata": {},
   "outputs": [],
   "source": []
  }
 ],
 "metadata": {
  "kernelspec": {
   "display_name": "Python 3",
   "language": "python",
   "name": "python3"
  },
  "language_info": {
   "codemirror_mode": {
    "name": "ipython",
    "version": 3
   },
   "file_extension": ".py",
   "mimetype": "text/x-python",
   "name": "python",
   "nbconvert_exporter": "python",
   "pygments_lexer": "ipython3",
   "version": "3.7.3"
  }
 },
 "nbformat": 4,
 "nbformat_minor": 2
}
